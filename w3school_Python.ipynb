{
  "nbformat": 4,
  "nbformat_minor": 0,
  "metadata": {
    "colab": {
      "provenance": [],
      "authorship_tag": "ABX9TyNSvNNOqk2x6n9GlZa4aEtg",
      "include_colab_link": true
    },
    "kernelspec": {
      "name": "python3",
      "display_name": "Python 3"
    },
    "language_info": {
      "name": "python"
    }
  },
  "cells": [
    {
      "cell_type": "markdown",
      "metadata": {
        "id": "view-in-github",
        "colab_type": "text"
      },
      "source": [
        "<a href=\"https://colab.research.google.com/github/AKASHPATI007/w3school-Python/blob/main/w3school_Python.ipynb\" target=\"_parent\"><img src=\"https://colab.research.google.com/assets/colab-badge.svg\" alt=\"Open In Colab\"/></a>"
      ]
    },
    {
      "cell_type": "markdown",
      "source": [
        "#**LIST**"
      ],
      "metadata": {
        "id": "f-oAYT4Bl0ha"
      }
    },
    {
      "cell_type": "code",
      "source": [
        "# 1. Write a Python program to sum all the items in a list.\n",
        "\n",
        "lst = [3,2,4,5,6,7]\n",
        "def sum(lst):\n",
        "  sum1 = 0\n",
        "  for i in lst:\n",
        "    sum1 += i\n",
        "  return sum1\n",
        "\n",
        "print(lst)\n",
        "print(sum(lst))\n"
      ],
      "metadata": {
        "colab": {
          "base_uri": "https://localhost:8080/"
        },
        "id": "EiylgQUml45T",
        "outputId": "0a1fbcad-586e-4c47-96ef-6ae26e20f1e6"
      },
      "execution_count": null,
      "outputs": [
        {
          "output_type": "stream",
          "name": "stdout",
          "text": [
            "[3, 2, 4, 5, 6, 7]\n",
            "27\n"
          ]
        }
      ]
    },
    {
      "cell_type": "code",
      "source": [
        "# 2. Write a Python program to multiply all the items in a list.\n",
        "\n",
        "lst = [2,4,5,6,6]\n",
        "def mult(lst):\n",
        "  mult1 = 1\n",
        "  for i in lst:\n",
        "    mult1 *= i\n",
        "  return mult1\n",
        "\n",
        "print(lst)\n",
        "print(mult(lst))"
      ],
      "metadata": {
        "colab": {
          "base_uri": "https://localhost:8080/"
        },
        "id": "m6YdJXkImuid",
        "outputId": "a1ab3837-8b43-4ca6-a523-407eb9c62e66"
      },
      "execution_count": null,
      "outputs": [
        {
          "output_type": "stream",
          "name": "stdout",
          "text": [
            "[2, 4, 5, 6, 6]\n",
            "1440\n"
          ]
        }
      ]
    },
    {
      "cell_type": "code",
      "source": [
        "\n",
        "# Write a Python program to get the largest number from a list.\n",
        "\n",
        "lst = [4,5,7,34,3,2,5,7]\n",
        "#1st method\n",
        "print(max(lst))\n",
        "\n",
        "#2nd method\n",
        "print(sorted(lst)[-1])\n",
        "\n",
        "#3rd method\n",
        "temp = lst[0]\n",
        "for i in lst:\n",
        "  if i > temp:\n",
        "   temp = i\n",
        "print(temp)\n"
      ],
      "metadata": {
        "colab": {
          "base_uri": "https://localhost:8080/"
        },
        "id": "c-qtGoKWn3XN",
        "outputId": "33e4fbb9-fd39-405b-e1b6-fbe9b3388456"
      },
      "execution_count": null,
      "outputs": [
        {
          "output_type": "stream",
          "name": "stdout",
          "text": [
            "34\n",
            "34\n",
            "34\n"
          ]
        }
      ]
    },
    {
      "cell_type": "code",
      "source": [
        "# Write a Python program to get the smallest number from a list.\n",
        "\n",
        "lst = [2,3,4,5,6,7,5,4,4]\n",
        "print(min(lst))\n",
        "print(sorted(lst)[0])\n",
        "\n",
        "#another method\n",
        "temp = lst[0]\n",
        "for i in lst:\n",
        "  if i<temp:\n",
        "    temp=i\n",
        "print(temp)"
      ],
      "metadata": {
        "colab": {
          "base_uri": "https://localhost:8080/"
        },
        "id": "YipFTo5ZqTJa",
        "outputId": "6549d327-4901-47c5-e835-807566bccbff"
      },
      "execution_count": null,
      "outputs": [
        {
          "output_type": "stream",
          "name": "stdout",
          "text": [
            "2\n",
            "2\n",
            "2\n"
          ]
        }
      ]
    },
    {
      "cell_type": "code",
      "source": [
        "#Write a Python program to count the number of strings from a given list of strings.\n",
        "#The string length is 2 or more and the first and last characters are the same.\n",
        "\n",
        "lst = ['abc', 'xyz', 'aba', '1221']\n",
        "\n",
        "temp = 0\n",
        "for i in lst:\n",
        "  if (len(i)>1 and (i[0]==i[-1])):\n",
        "    temp += 1\n",
        "\n",
        "\n",
        "print(temp)"
      ],
      "metadata": {
        "colab": {
          "base_uri": "https://localhost:8080/"
        },
        "id": "HvN08oEzrNxg",
        "outputId": "42cb58ca-1591-42e5-be1d-9e1309850a3d"
      },
      "execution_count": null,
      "outputs": [
        {
          "output_type": "stream",
          "name": "stdout",
          "text": [
            "2\n"
          ]
        }
      ]
    },
    {
      "cell_type": "code",
      "source": [
        "# Write a Python program to get a list, sorted in increasing order by the last element in each tuple from a given list of non-empty tuples.\n",
        "\n",
        "lst = [(2, 5), (1, 2), (4, 4), (2, 3), (2, 1)]\n",
        "\n",
        "def return_last_ele(tuple):\n",
        "  return tuple[-1]\n",
        "\n",
        "lst2 = sorted(lst , key = return_last_ele )\n",
        "print(lst2)\n"
      ],
      "metadata": {
        "colab": {
          "base_uri": "https://localhost:8080/"
        },
        "id": "9gTtBaEPpfAG",
        "outputId": "1b51f6af-59e3-4d96-f23b-30ce67144e8e"
      },
      "execution_count": null,
      "outputs": [
        {
          "output_type": "stream",
          "name": "stdout",
          "text": [
            "[(2, 1), (1, 2), (2, 3), (4, 4), (2, 5)]\n"
          ]
        }
      ]
    },
    {
      "cell_type": "code",
      "source": [
        "# Write a Python program to remove duplicates from a list.\n",
        "\n",
        "a = [10,20,30,20,10,50,60,40,80,50,40]\n",
        "print(list(set(a)))\n",
        "\n",
        "# 2nd method\n",
        "\n",
        "def remove_dup(a):\n",
        "  no_dup = []\n",
        "  for i in a:\n",
        "    if i not in no_dup:\n",
        "      no_dup.append(i)\n",
        "  return no_dup\n",
        "\n",
        "print(remove_dup(a))\n",
        "\n"
      ],
      "metadata": {
        "colab": {
          "base_uri": "https://localhost:8080/"
        },
        "id": "N7c45uIKsxQz",
        "outputId": "3c321005-607b-47ec-d044-5264b0670bf1"
      },
      "execution_count": null,
      "outputs": [
        {
          "output_type": "stream",
          "name": "stdout",
          "text": [
            "[40, 10, 80, 50, 20, 60, 30]\n",
            "[10, 20, 30, 50, 60, 40, 80]\n"
          ]
        }
      ]
    },
    {
      "cell_type": "code",
      "source": [
        "# Write a Python program to find the list of words that are longer than n from a given list of words.\n",
        "\n",
        "string = 'The quick brown fox jumps over the lazy dog'\n",
        "n= 3\n",
        "list = []\n",
        "\n",
        "for string in string.split():\n",
        "  if len(string)> n:\n",
        "    list.append(string)\n",
        "list\n"
      ],
      "metadata": {
        "colab": {
          "base_uri": "https://localhost:8080/"
        },
        "id": "z15hdCRzlMVz",
        "outputId": "ef59ddfe-92b2-4644-acd2-82b65d07651b"
      },
      "execution_count": null,
      "outputs": [
        {
          "output_type": "execute_result",
          "data": {
            "text/plain": [
              "['quick', 'brown', 'jumps', 'over', 'lazy']"
            ]
          },
          "metadata": {},
          "execution_count": 11
        }
      ]
    },
    {
      "cell_type": "code",
      "source": [
        "# Write a Python function that takes two lists and returns True if they have at least one common member.\n",
        "\n",
        "def common_data(list1, list2):\n",
        "     result = False\n",
        "     for x in list1:\n",
        "         for y in list2:\n",
        "             if x == y:\n",
        "                 result = True\n",
        "                 return result\n",
        "print(common_data([1,2,3,4,5], [5,6,7,8,9]))\n",
        "print(common_data([1,2,3,4,5], [6,7,8,9]))"
      ],
      "metadata": {
        "colab": {
          "base_uri": "https://localhost:8080/"
        },
        "id": "_dCVVOYRmyna",
        "outputId": "21dcfa67-791e-4d2a-cc82-7cb9743d81e2"
      },
      "execution_count": null,
      "outputs": [
        {
          "output_type": "stream",
          "name": "stdout",
          "text": [
            "True\n",
            "None\n"
          ]
        }
      ]
    },
    {
      "cell_type": "code",
      "source": [
        "# Write a Python program to print a specified list after removing the 0th, 4th and 5th elements.\n",
        "\n",
        "color = ['Red', 'Green', 'White', 'Black', 'Pink', 'Yellow']\n",
        "color = [x for (i,x) in enumerate(color) if i not in (0,4,5)]\n",
        "color"
      ],
      "metadata": {
        "colab": {
          "base_uri": "https://localhost:8080/"
        },
        "id": "MkdV_-PApJl9",
        "outputId": "f84fca2b-7677-436d-d440-dc18a39c31c9"
      },
      "execution_count": null,
      "outputs": [
        {
          "output_type": "execute_result",
          "data": {
            "text/plain": [
              "['Green', 'White', 'Black']"
            ]
          },
          "metadata": {},
          "execution_count": 31
        }
      ]
    },
    {
      "cell_type": "code",
      "source": [
        "# Write a Python program to generate a 3*4*6 3D array whose each element is *.\n",
        "\n",
        "array = [[ ['*' for col in range(6)] for col in range(4)] for row in range(3)]\n",
        "print(array)"
      ],
      "metadata": {
        "colab": {
          "base_uri": "https://localhost:8080/"
        },
        "id": "BVguE3GksWXk",
        "outputId": "16fad7a9-1f2c-417c-bf2a-7bc5905bb068"
      },
      "execution_count": null,
      "outputs": [
        {
          "output_type": "stream",
          "name": "stdout",
          "text": [
            "[[['*', '*', '*', '*', '*', '*'], ['*', '*', '*', '*', '*', '*'], ['*', '*', '*', '*', '*', '*'], ['*', '*', '*', '*', '*', '*']], [['*', '*', '*', '*', '*', '*'], ['*', '*', '*', '*', '*', '*'], ['*', '*', '*', '*', '*', '*'], ['*', '*', '*', '*', '*', '*']], [['*', '*', '*', '*', '*', '*'], ['*', '*', '*', '*', '*', '*'], ['*', '*', '*', '*', '*', '*'], ['*', '*', '*', '*', '*', '*']]]\n"
          ]
        }
      ]
    },
    {
      "cell_type": "code",
      "source": [
        "# Write a Python program to print the numbers of a specified list after removing even numbers from it.\n",
        "\n",
        "lst = [2,3,4,567,8,6,54,3,2,4,54,5,7]\n",
        "lst1=[]\n",
        "for i in lst:\n",
        "  if i%2!=0:\n",
        "    lst1.append(i)\n",
        "\n",
        "print(lst1)\n",
        "\n",
        "# 2nd method\n",
        "lst = [2,3,4,567,8,6,54,3,2,4,54,5,7]\n",
        "print([x for x in lst if x%2!=0])\n"
      ],
      "metadata": {
        "colab": {
          "base_uri": "https://localhost:8080/"
        },
        "id": "cu8e3BBOtjc-",
        "outputId": "e62491c3-686b-4dc5-86cd-833cd85ba60f"
      },
      "execution_count": null,
      "outputs": [
        {
          "output_type": "stream",
          "name": "stdout",
          "text": [
            "[3, 567, 3, 5, 7]\n",
            "[3, 567, 3, 5, 7]\n"
          ]
        }
      ]
    },
    {
      "cell_type": "code",
      "source": [
        "# Write a Python program to shuffle and print a specified list.\n",
        "\n",
        "from random import shuffle\n",
        "color = ['Red', 'Green', 'White', 'Black', 'Pink', 'Yellow']\n",
        "shuffle(color)\n",
        "print(color)"
      ],
      "metadata": {
        "colab": {
          "base_uri": "https://localhost:8080/"
        },
        "id": "SRGLl3okuYBs",
        "outputId": "7ac122ae-6c06-44db-9fca-4ac01cf63a78"
      },
      "execution_count": null,
      "outputs": [
        {
          "output_type": "stream",
          "name": "stdout",
          "text": [
            "['Pink', 'White', 'Green', 'Yellow', 'Black', 'Red']\n"
          ]
        }
      ]
    },
    {
      "cell_type": "code",
      "source": [
        "# Write a Python program to check if each number is prime in a given list of numbers. Return True if all numbers are prime otherwise False.\n",
        "\n",
        "def test(nums):\n",
        "    return all(is_prime(i) for i in nums)\n",
        "def is_prime(n):\n",
        "    if (n==1):\n",
        "        return False\n",
        "    elif (n==2):\n",
        "        return True;\n",
        "    else:\n",
        "        for x in range(2,n):\n",
        "            if(n % x==0):\n",
        "                return False\n",
        "        return True\n",
        "\n",
        "print(test([0, 3, 4, 7, 9]))\n",
        "print(test([3, 5, 7, 13]))\n",
        "print(test([1, 5, 3]))"
      ],
      "metadata": {
        "id": "3ad9ATduwKZ-",
        "colab": {
          "base_uri": "https://localhost:8080/"
        },
        "outputId": "35f14652-d210-4950-ca05-e39783c41d3f"
      },
      "execution_count": null,
      "outputs": [
        {
          "output_type": "stream",
          "name": "stdout",
          "text": [
            "False\n",
            "True\n",
            "False\n"
          ]
        }
      ]
    },
    {
      "cell_type": "code",
      "source": [
        "# Write a Python program to calculate the difference between the two lists.\n",
        "lst1 = [1,8,9,4,5]\n",
        "lst2= [4,3,1,2,4]\n",
        "\n",
        "diff = list(set(lst1)-set(lst2))\n",
        "diff"
      ],
      "metadata": {
        "colab": {
          "base_uri": "https://localhost:8080/"
        },
        "id": "3n-KQu6-qJZo",
        "outputId": "7c0617c8-21d1-44a5-f886-60d9a160df47"
      },
      "execution_count": null,
      "outputs": [
        {
          "output_type": "execute_result",
          "data": {
            "text/plain": [
              "[8, 9, 5]"
            ]
          },
          "metadata": {},
          "execution_count": 7
        }
      ]
    },
    {
      "cell_type": "code",
      "source": [
        "# Write a Python program to access the index of a list.\n",
        "\n",
        "nums = [5, 15, 35, 8, 98]\n",
        "for index, val in enumerate(nums):\n",
        "    print(index, val)\n",
        "\n"
      ],
      "metadata": {
        "colab": {
          "base_uri": "https://localhost:8080/"
        },
        "id": "BZzgX1Pvq23w",
        "outputId": "92572c2f-4ddd-4ce2-84ef-7e7b20d3dfe6"
      },
      "execution_count": null,
      "outputs": [
        {
          "output_type": "stream",
          "name": "stdout",
          "text": [
            "0 5\n",
            "1 15\n",
            "2 35\n",
            "3 8\n",
            "4 98\n"
          ]
        }
      ]
    },
    {
      "cell_type": "code",
      "source": [
        "# Write a Python program to convert a list of characters into a string.\n",
        "s = ['a', 'b', 'c', 'd']\n",
        "str1 = ''.join(s)\n",
        "print(str1)"
      ],
      "metadata": {
        "colab": {
          "base_uri": "https://localhost:8080/"
        },
        "id": "rDwcxScxsH1x",
        "outputId": "3548e8fa-8a10-4fac-983b-8e57cec975cb"
      },
      "execution_count": null,
      "outputs": [
        {
          "output_type": "stream",
          "name": "stdout",
          "text": [
            "abcd\n"
          ]
        }
      ]
    },
    {
      "cell_type": "code",
      "source": [
        "# Write a Python program to find the index of an item in a specified list.\n",
        "num =[10, 30, 4, -6]\n",
        "print(num.index(30))"
      ],
      "metadata": {
        "colab": {
          "base_uri": "https://localhost:8080/"
        },
        "id": "2QJ0z34Ss0Ac",
        "outputId": "9832538e-a6b8-4f82-efbf-d67a136d8b4c"
      },
      "execution_count": null,
      "outputs": [
        {
          "output_type": "stream",
          "name": "stdout",
          "text": [
            "1\n"
          ]
        }
      ]
    },
    {
      "cell_type": "code",
      "source": [
        "# Write a Python program to flatten a shallow list.\n",
        "import itertools\n",
        "original_list = [[2,4,3],[1,5,6], [9], [7,9,0]]\n",
        "new_merged_list = list(itertools.chain(*original_list))\n",
        "print(new_merged_list)"
      ],
      "metadata": {
        "colab": {
          "base_uri": "https://localhost:8080/"
        },
        "id": "zolVm1oVtOR6",
        "outputId": "48c5369f-d88f-4961-f08f-85774259c26f"
      },
      "execution_count": null,
      "outputs": [
        {
          "output_type": "stream",
          "name": "stdout",
          "text": [
            "[2, 4, 3, 1, 5, 6, 9, 7, 9, 0]\n"
          ]
        }
      ]
    },
    {
      "cell_type": "code",
      "source": [
        "# Write a Python program to append a list to the second list.\n",
        "lst1 = [1, 2, 3, 0]\n",
        "lst2 = ['Red', 'Green', 'Black']\n",
        "\n",
        "for i in lst2:\n",
        "  lst1.append(i)\n",
        "print(lst1)\n",
        "\n",
        "# 2nd method\n",
        "lst1 = [1, 2, 3, 0]\n",
        "lst2 = ['Red', 'Green', 'Black']\n",
        "final_list = lst1 + lst2\n",
        "print(final_list)"
      ],
      "metadata": {
        "colab": {
          "base_uri": "https://localhost:8080/"
        },
        "id": "I6S3A0L2tg06",
        "outputId": "be9d9338-7f14-4840-b7c1-5abde2491c3a"
      },
      "execution_count": null,
      "outputs": [
        {
          "output_type": "stream",
          "name": "stdout",
          "text": [
            "[1, 2, 3, 0, 'Red', 'Green', 'Black']\n",
            "[1, 2, 3, 0, 'Red', 'Green', 'Black']\n"
          ]
        }
      ]
    },
    {
      "cell_type": "code",
      "source": [
        "# Write a Python program to select an item randomly from a list.\n",
        "\n",
        "from random import choice\n",
        "def random_element(lst):\n",
        "  return choice(lst)\n",
        "print(random_element([2, 3, 4, 7, 9, 11, 15]))"
      ],
      "metadata": {
        "colab": {
          "base_uri": "https://localhost:8080/"
        },
        "id": "yPo7QdKHuQ76",
        "outputId": "4dd8aa66-66ef-4b6e-ad76-31948b269445"
      },
      "execution_count": null,
      "outputs": [
        {
          "output_type": "stream",
          "name": "stdout",
          "text": [
            "2\n"
          ]
        }
      ]
    },
    {
      "cell_type": "code",
      "source": [
        "# Write a Python program to check whether two lists are circularly identical.\n",
        "\n",
        "list1 = [10, 10, 0, 0, 10]\n",
        "list2 = [10, 10, 10, 0, 0]\n",
        "list3 = [1, 10, 10, 0, 0]\n",
        "\n",
        "print('Compare list1 and list2')\n",
        "print(' '.join(map(str, list2)) in ' '.join(map(str, list1 * 2)))\n",
        "print('Compare list1 and list3')\n",
        "print(' '.join(map(str, list3)) in ' '.join(map(str, list1 * 2)))"
      ],
      "metadata": {
        "colab": {
          "base_uri": "https://localhost:8080/"
        },
        "id": "OFZvHIGzud3J",
        "outputId": "c996f2a2-235f-4ad2-844e-692c8d23beec"
      },
      "execution_count": null,
      "outputs": [
        {
          "output_type": "stream",
          "name": "stdout",
          "text": [
            "Compare list1 and list2\n",
            "True\n",
            "Compare list1 and list3\n",
            "False\n"
          ]
        }
      ]
    },
    {
      "cell_type": "code",
      "source": [
        "# Write a Python program to find the second smallest number in a list.\n",
        "\n",
        "lst = [2,9,4,5,6,8]\n",
        "print(sorted(lst)[1])\n",
        "\n",
        "# method2\n",
        "\n",
        "min1 = min(lst)\n",
        "lst.remove(min1)\n",
        "print(min(lst))"
      ],
      "metadata": {
        "colab": {
          "base_uri": "https://localhost:8080/"
        },
        "id": "PHuvQmtywQyw",
        "outputId": "0b59b380-1142-424f-e49b-90ea97af75c4"
      },
      "execution_count": null,
      "outputs": [
        {
          "output_type": "stream",
          "name": "stdout",
          "text": [
            "4\n",
            "4\n"
          ]
        }
      ]
    },
    {
      "cell_type": "code",
      "source": [
        "# Write a Python program to get the frequency of elements in a list.\n",
        "\n",
        "import collections\n",
        "my_list = [10,10,10,10,20,20,20,20,40,40,50,50,30]\n",
        "ctr = collections.Counter(my_list)\n",
        "print(ctr)\n",
        "print('------------------------------------------')\n",
        "# 2nd method\n",
        "count = {}\n",
        "for i in my_list:\n",
        "  if i in count:\n",
        "    count[i] += 1\n",
        "  else:\n",
        "    count[i] = 1\n",
        "\n",
        "print(count)\n"
      ],
      "metadata": {
        "colab": {
          "base_uri": "https://localhost:8080/"
        },
        "id": "4UqyorzwlINu",
        "outputId": "9fbae127-26f0-4365-9ea7-b23c45a69de3"
      },
      "execution_count": null,
      "outputs": [
        {
          "output_type": "stream",
          "name": "stdout",
          "text": [
            "Counter({10: 4, 20: 4, 40: 2, 50: 2, 30: 1})\n",
            "------------------------------------------\n",
            "{10: 4, 20: 4, 40: 2, 50: 2, 30: 1}\n"
          ]
        }
      ]
    },
    {
      "cell_type": "code",
      "source": [
        "# Write a Python program to change the position of every n-th value to the (n+1)th in a list.\n",
        "\n",
        "lst =  [0,1,2,3,4,5]\n",
        "for i in range(0,len(lst),2):\n",
        "  lst[i],lst[i+1] = lst[i+1],lst[i]\n",
        "lst\n"
      ],
      "metadata": {
        "id": "aF9hTKSjm1uu",
        "colab": {
          "base_uri": "https://localhost:8080/"
        },
        "outputId": "1edacef4-4c0e-43f9-96c0-f7110b17435c"
      },
      "execution_count": null,
      "outputs": [
        {
          "output_type": "execute_result",
          "data": {
            "text/plain": [
              "[1, 0, 3, 2, 5, 4]"
            ]
          },
          "metadata": {},
          "execution_count": 11
        }
      ]
    },
    {
      "cell_type": "code",
      "source": [
        "# Write a Python program to convert a list of multiple integers into a single integer.\n",
        "\n",
        "lst = [12,34,56]\n",
        "single = int(''.join(map(str,lst)))\n",
        "single"
      ],
      "metadata": {
        "colab": {
          "base_uri": "https://localhost:8080/"
        },
        "id": "1q6NYqYXpjZB",
        "outputId": "86298aba-877e-44dc-d20a-b31e08576cc8"
      },
      "execution_count": null,
      "outputs": [
        {
          "output_type": "execute_result",
          "data": {
            "text/plain": [
              "123456"
            ]
          },
          "metadata": {},
          "execution_count": 13
        }
      ]
    },
    {
      "cell_type": "code",
      "source": [
        "# Write a Python program to split a list based on the first character of a word.\n",
        "\n",
        "from itertools import groupby\n",
        "from operator import itemgetter\n",
        "\n",
        "word_list = ['be','have','do','say','get','make','go','know','take','see','come','think',\n",
        "     'look','want','give','use','find','tell','ask','work','seem','feel','leave','call']\n",
        "\n",
        "for letter, words in groupby(sorted(word_list), key=itemgetter(0)):\n",
        "    print(letter)\n",
        "    for word in words:\n",
        "        print(word)"
      ],
      "metadata": {
        "colab": {
          "base_uri": "https://localhost:8080/"
        },
        "id": "sedQsicdqeee",
        "outputId": "a49ede65-7c55-43cf-c5bb-7d02c3f907b4"
      },
      "execution_count": null,
      "outputs": [
        {
          "output_type": "stream",
          "name": "stdout",
          "text": [
            "a\n",
            "ask\n",
            "b\n",
            "be\n",
            "c\n",
            "call\n",
            "come\n",
            "d\n",
            "do\n",
            "f\n",
            "feel\n",
            "find\n",
            "g\n",
            "get\n",
            "give\n",
            "go\n",
            "h\n",
            "have\n",
            "k\n",
            "know\n",
            "l\n",
            "leave\n",
            "look\n",
            "m\n",
            "make\n",
            "s\n",
            "say\n",
            "see\n",
            "seem\n",
            "t\n",
            "take\n",
            "tell\n",
            "think\n",
            "u\n",
            "use\n",
            "w\n",
            "want\n",
            "work\n"
          ]
        }
      ]
    },
    {
      "cell_type": "code",
      "source": [
        "# Write a Python program to convert a pair of values into a sorted unique array.\n",
        "import itertools\n",
        "L = [(1, 2), (3, 4), (1, 2), (5, 6), (7, 8), (1, 2), (3, 4), (3, 4),(7, 8), (9, 10)]\n",
        "print(\"Original List: \", L)\n",
        "print('sorted unique data:', sorted(set(list(itertools.chain(*L)))))\n",
        "\n",
        "# 2nd method\n",
        "\n",
        "print(\"Sorted Unique Data:\",sorted(set().union(*L)))\n"
      ],
      "metadata": {
        "colab": {
          "base_uri": "https://localhost:8080/"
        },
        "id": "qombNVkat5YY",
        "outputId": "f1f1b7d2-417f-4e25-9ee3-7830e061115e"
      },
      "execution_count": null,
      "outputs": [
        {
          "output_type": "stream",
          "name": "stdout",
          "text": [
            "Original List:  [(1, 2), (3, 4), (1, 2), (5, 6), (7, 8), (1, 2), (3, 4), (3, 4), (7, 8), (9, 10)]\n",
            "sorted unique data: [1, 2, 3, 4, 5, 6, 7, 8, 9, 10]\n",
            "Sorted Unique Data: [1, 2, 3, 4, 5, 6, 7, 8, 9, 10]\n"
          ]
        }
      ]
    },
    {
      "cell_type": "code",
      "source": [
        "# Write a Python program to select the odd items from a list.\n",
        "\n",
        "x = [1, 2, 3, 4, 5, 6, 7, 8, 9]\n",
        "print(x[::2])"
      ],
      "metadata": {
        "id": "HJJKsVzqwVFQ"
      },
      "execution_count": null,
      "outputs": []
    },
    {
      "cell_type": "code",
      "source": [
        "# Write a Python program to insert an element before each element of a list.\n",
        "\n",
        "color = ['Red', 'Green', 'Black']\n",
        "print(\"Original List: \",color)\n",
        "color = [v for i in color for v in ('c', i)]\n",
        "print(\"Original List: \",color)"
      ],
      "metadata": {
        "colab": {
          "base_uri": "https://localhost:8080/"
        },
        "id": "EIRId2Mrk69e",
        "outputId": "857d0d9e-9c95-4fb1-df8e-56bbbb59ca1f"
      },
      "execution_count": null,
      "outputs": [
        {
          "output_type": "stream",
          "name": "stdout",
          "text": [
            "Original List:  ['Red', 'Green', 'Black']\n",
            "Original List:  ['c', 'Red', 'c', 'Green', 'c', 'Black']\n"
          ]
        }
      ]
    },
    {
      "cell_type": "code",
      "source": [
        "# Write a Python program to convert a list to a list of dictionaries.\n",
        "\n",
        "color_name = [\"Black\", \"Red\", \"Maroon\", \"Yellow\"]\n",
        "color_code = [\"#000000\", \"#FF0000\", \"#800000\", \"#FFFF00\"]\n",
        "d = dict(zip(color_name,color_code))\n",
        "d"
      ],
      "metadata": {
        "colab": {
          "base_uri": "https://localhost:8080/"
        },
        "id": "D8FJRXHMmG75",
        "outputId": "45738359-dae4-459b-ea77-3e1ae40056c2"
      },
      "execution_count": null,
      "outputs": [
        {
          "output_type": "execute_result",
          "data": {
            "text/plain": [
              "{'Black': '#000000',\n",
              " 'Red': '#FF0000',\n",
              " 'Maroon': '#800000',\n",
              " 'Yellow': '#FFFF00'}"
            ]
          },
          "metadata": {},
          "execution_count": 47
        }
      ]
    },
    {
      "cell_type": "code",
      "source": [
        "# Write a Python program to split a list every Nth element.\n",
        "\n",
        "c = ['a', 'b', 'c', 'd', 'e', 'f', 'g', 'h', 'i', 'j', 'k', 'l', 'm', 'n']\n",
        "n=3\n",
        "for i in range(0,n):\n",
        "  print(c[i::n])"
      ],
      "metadata": {
        "id": "93taJXwNmy6C",
        "colab": {
          "base_uri": "https://localhost:8080/"
        },
        "outputId": "30a80235-d08c-4ab5-ff46-1a18120c9ca3"
      },
      "execution_count": 9,
      "outputs": [
        {
          "output_type": "stream",
          "name": "stdout",
          "text": [
            "['a', 'd', 'g', 'j', 'm']\n",
            "['b', 'e', 'h', 'k', 'n']\n",
            "['c', 'f', 'i', 'l']\n"
          ]
        }
      ]
    },
    {
      "cell_type": "code",
      "source": [
        "# Write a Python program to compute the difference between two lists.\n",
        "\n",
        "from collections import Counter\n",
        "color1 = [\"red\", \"orange\", \"green\", \"blue\", \"white\"]\n",
        "color2 = [\"black\", \"yellow\", \"green\", \"blue\"]\n",
        "counter1 = Counter(color1)\n",
        "counter2 = Counter(color2)\n",
        "print(\"Color1-Color2: \",list(counter1 - counter2))\n",
        "print(\"Color2-Color1: \",list(counter2 - counter1))\n",
        "\n",
        "# Method2:-\n",
        "color1 = [\"red\", \"orange\", \"green\", \"blue\", \"white\"]\n",
        "color2 = [\"black\", \"yellow\", \"green\", \"blue\"]\n",
        "print((list(set(color1)-set(color2))))\n"
      ],
      "metadata": {
        "colab": {
          "base_uri": "https://localhost:8080/"
        },
        "id": "mNCQXU65osXq",
        "outputId": "4eec4727-f917-48bd-9ea2-5736738ab07e"
      },
      "execution_count": 12,
      "outputs": [
        {
          "output_type": "stream",
          "name": "stdout",
          "text": [
            "Color1-Color2:  ['red', 'orange', 'white']\n",
            "Color2-Color1:  ['black', 'yellow']\n",
            "['orange', 'white', 'red']\n"
          ]
        }
      ]
    },
    {
      "cell_type": "code",
      "source": [
        "# Write a Python program to concatenate elements of a list.\n",
        "\n",
        "color = ['red', 'green', 'orange']\n",
        "print('-'.join(color))\n",
        "print(''.join(color))"
      ],
      "metadata": {
        "colab": {
          "base_uri": "https://localhost:8080/"
        },
        "id": "EJuW_HfBpu-j",
        "outputId": "06f1a842-20fe-46ce-a2ec-206c088cab0f"
      },
      "execution_count": 13,
      "outputs": [
        {
          "output_type": "stream",
          "name": "stdout",
          "text": [
            "red-green-orange\n",
            "redgreenorange\n"
          ]
        }
      ]
    },
    {
      "cell_type": "code",
      "source": [
        "# Write a Python program to remove key-value pairs from a list of dictionaries.\n",
        "\n",
        "original_list = [{'key1':'value1', 'key2':'value2'}, {'key1':'value3', 'key2':'value4'}]\n",
        "print(\"Original List: \")\n",
        "print(original_list)\n",
        "new_list = [{k: v for k, v in d.items() if k != 'key1'} for d in original_list]\n",
        "print(new_list)"
      ],
      "metadata": {
        "colab": {
          "base_uri": "https://localhost:8080/"
        },
        "id": "ZBGhTaWOqfFt",
        "outputId": "e944558d-77a7-4c7e-8841-a3723edc63ec"
      },
      "execution_count": 15,
      "outputs": [
        {
          "output_type": "stream",
          "name": "stdout",
          "text": [
            "Original List: \n",
            "[{'key1': 'value1', 'key2': 'value2'}, {'key1': 'value3', 'key2': 'value4'}]\n",
            "[{'key2': 'value2'}, {'key2': 'value4'}]\n"
          ]
        }
      ]
    },
    {
      "cell_type": "code",
      "source": [
        "# Write a Python program to convert a string to a list.\n",
        "\n",
        "import ast\n",
        "color =\"['Red', 'Green', 'White']\"\n",
        "print(ast.literal_eval(color))\n"
      ],
      "metadata": {
        "colab": {
          "base_uri": "https://localhost:8080/"
        },
        "id": "ID6m1E7crLYI",
        "outputId": "cd7232d0-047d-4ce6-93b9-53f921bf39d6"
      },
      "execution_count": 18,
      "outputs": [
        {
          "output_type": "stream",
          "name": "stdout",
          "text": [
            "['Red', 'Green', 'White']\n"
          ]
        }
      ]
    },
    {
      "cell_type": "code",
      "source": [
        "# Write a Python program to replace the last element in a list with another list.\n",
        "\n",
        "lst1= [1, 3, 5, 7, 9, 10]\n",
        "lst2= [2, 4, 6, 8]\n",
        "lst1[-1:] = lst2\n",
        "print(lst1)"
      ],
      "metadata": {
        "colab": {
          "base_uri": "https://localhost:8080/"
        },
        "id": "3utNOptfsCse",
        "outputId": "ebc57643-c16e-41f1-e368-989be1e66aeb"
      },
      "execution_count": 29,
      "outputs": [
        {
          "output_type": "stream",
          "name": "stdout",
          "text": [
            "[1, 3, 5, 7, 9, 2, 4, 6, 8]\n"
          ]
        }
      ]
    },
    {
      "cell_type": "code",
      "source": [],
      "metadata": {
        "id": "uRP2sn0wuJ3M"
      },
      "execution_count": null,
      "outputs": []
    }
  ]
}